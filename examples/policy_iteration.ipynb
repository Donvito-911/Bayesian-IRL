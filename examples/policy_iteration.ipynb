{
 "cells": [
  {
   "cell_type": "markdown",
   "metadata": {
    "collapsed": false
   },
   "source": [
    "# Pruebas de policy iteration\n",
    "- Hacer con el puente y con otros que hayamos visto en clase/tengamos la respuesta"
   ]
  },
  {
   "cell_type": "code",
   "execution_count": 1,
   "metadata": {},
   "outputs": [],
   "source": [
    "%load_ext autoreload\n",
    "%autoreload 2"
   ]
  },
  {
   "cell_type": "code",
   "execution_count": 2,
   "metadata": {
    "collapsed": false
   },
   "outputs": [],
   "source": [
    "import sys\n",
    "import numpy as np \n",
    "sys.path.append('..')"
   ]
  },
  {
   "cell_type": "code",
   "execution_count": 3,
   "metadata": {},
   "outputs": [],
   "source": [
    "from birl.mdp import GridWorld\n",
    "from birl.utils.dynamic_programming import DP"
   ]
  },
  {
   "cell_type": "code",
   "execution_count": 4,
   "metadata": {},
   "outputs": [],
   "source": [
    "bridge = GridWorld(dims=(3,7), noise = 0)\n",
    "bridge.set_traps([(0,0), (0,6), (2,0), (2,6)])\n",
    "bridge.set_terminals([(0,i) for i in range(6)]+[(1,0), (1,6)])\n",
    "bridge.set_terminals([(2,i) for i in range(6)])\n",
    "\n",
    "rewards = np.array([0] + [-100]*5 + [0] + [1] + [0]*5 + [100,0] + [-100]*5 + [0])"
   ]
  },
  {
   "cell_type": "code",
   "execution_count": 5,
   "metadata": {},
   "outputs": [
    {
     "name": "stdout",
     "output_type": "stream",
     "text": [
      "     0    1    2    3    4    5    6 \n",
      "  . ---- ---- ---- ---- ---- ---- ---.\n",
      "0 |   *|   T|   T|   T|   T|   T|   *|\n",
      "  |----|----|----|----|----|----|----|\n",
      "1 |   T|    |    |    |    |    |   T|\n",
      "  |----|----|----|----|----|----|----|\n",
      "2 |   *|   T|   T|   T|   T|   T|   *|\n",
      "  |----|----|----|----|----|----|----|\n"
     ]
    }
   ],
   "source": [
    "bridge.show()"
   ]
  },
  {
   "cell_type": "code",
   "execution_count": 6,
   "metadata": {},
   "outputs": [],
   "source": [
    "dp = DP(bridge)"
   ]
  },
  {
   "cell_type": "code",
   "execution_count": 7,
   "metadata": {},
   "outputs": [],
   "source": [
    "policy = dp.policy_iteration(rewards)"
   ]
  },
  {
   "cell_type": "code",
   "execution_count": 8,
   "metadata": {},
   "outputs": [
    {
     "data": {
      "text/plain": [
       "{(0, 1): 'out',\n",
       " (0, 2): 'out',\n",
       " (0, 3): 'out',\n",
       " (0, 4): 'out',\n",
       " (0, 5): 'out',\n",
       " (1, 0): 'out',\n",
       " (1, 1): 'right',\n",
       " (1, 2): 'right',\n",
       " (1, 3): 'right',\n",
       " (1, 4): 'right',\n",
       " (1, 5): 'right',\n",
       " (1, 6): 'out',\n",
       " (2, 1): 'out',\n",
       " (2, 2): 'out',\n",
       " (2, 3): 'out',\n",
       " (2, 4): 'out',\n",
       " (2, 5): 'out'}"
      ]
     },
     "execution_count": 8,
     "metadata": {},
     "output_type": "execute_result"
    }
   ],
   "source": [
    "policy"
   ]
  },
  {
   "cell_type": "code",
   "execution_count": 9,
   "metadata": {},
   "outputs": [
    {
     "data": {
      "text/plain": [
       "array([   0, -991, -991, -991, -991, -991,    0,    1,  583,  648,  720,\n",
       "        801,  891,  991,    0, -991, -991, -991, -991, -991,    0])"
      ]
     },
     "execution_count": 9,
     "metadata": {},
     "output_type": "execute_result"
    }
   ],
   "source": [
    "dp.values"
   ]
  },
  {
   "cell_type": "code",
   "execution_count": null,
   "metadata": {},
   "outputs": [],
   "source": []
  }
 ],
 "metadata": {
  "kernelspec": {
   "display_name": "Python 3",
   "language": "python",
   "name": "python3"
  },
  "language_info": {
   "codemirror_mode": {
    "name": "ipython",
    "version": 3
   },
   "file_extension": ".py",
   "mimetype": "text/x-python",
   "name": "python",
   "nbconvert_exporter": "python",
   "pygments_lexer": "ipython3",
   "version": "3.10.11"
  }
 },
 "nbformat": 4,
 "nbformat_minor": 0
}
