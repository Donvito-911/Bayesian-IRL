{
 "cells": [
  {
   "cell_type": "code",
   "execution_count": 1,
   "metadata": {
    "collapsed": false
   },
   "outputs": [],
   "source": [
    "%load_ext autoreload\n",
    "%autoreload 2"
   ]
  },
  {
   "cell_type": "code",
   "execution_count": 4,
   "metadata": {},
   "outputs": [],
   "source": [
    "import sys\n",
    "sys.path.append('..')"
   ]
  },
  {
   "cell_type": "code",
   "execution_count": 5,
   "metadata": {
    "collapsed": false
   },
   "outputs": [],
   "source": [
    "from birl.mdp import MDP, GridWorld"
   ]
  },
  {
   "cell_type": "markdown",
   "metadata": {
    "collapsed": false
   },
   "source": [
    "## Pure MDPs\n",
    "\n",
    "![Figure 1 of paper BIRL](images/figure1_paper.png)\n"
   ]
  },
  {
   "cell_type": "code",
   "execution_count": 6,
   "metadata": {
    "collapsed": false
   },
   "outputs": [],
   "source": [
    "states = [\"S_0\", \"S_1\", \"S_2\", \"S_3\"]\n",
    "actions = [\"a_1\", \"a_2\"]\n",
    "mdp = MDP(states, actions) # create an MDP with states and actions (by default, transition probabilities are all 0 and gamma=0.9)\n",
    "\n",
    "# create transition probabilities\n",
    "t_prob = [(\"S_0\", \"a_1\", \"S_1\", 0.4), (\"S_0\", \"a_1\", \"S_2\", 0.3), (\"S_0\", \"a_1\", \"S_3\", 0.3), (\"S_0\", \"a_2\", \"S_0\", 1),\n",
    "          (\"S_1\", \"a_1\", \"S_2\", 1), (\"S_1\", \"a_2\", \"S_0\", 1),\n",
    "          (\"S_2\", \"a_1\", \"S_3\", 1), (\"S_2\", \"a_2\", \"S_0\", 1),\n",
    "          (\"S_3\", \"a_1\", \"S_1\", 1), (\"S_0\", \"a_2\", \"S_0\", 1)]\n",
    "mdp.set_transition_probabilities(t_prob)"
   ]
  },
  {
   "cell_type": "code",
   "execution_count": 7,
   "metadata": {
    "collapsed": false
   },
   "outputs": [
    {
     "name": "stdout",
     "output_type": "stream",
     "text": [
      "Taking action a_1 in S_0 and arriving to S_1 has a probability of: 0.4\n",
      "Taking action a_1 in S_0 and arriving to S_0 has a probability of: 0.0\n",
      "Taking action a_2 in S_0 and arriving to S_0 has a probability of: 1.0\n"
     ]
    }
   ],
   "source": [
    "# examples of retrieving the probability\n",
    "s, a, s_ = \"S_0\", \"a_1\", \"S_1\"\n",
    "print(f\"Taking action {a} in {s} and arriving to {s_} has a probability of:\", mdp.get_transition_probability(s, a, s_))\n",
    "s, a, s_ = \"S_0\", \"a_1\", \"S_0\"\n",
    "print(f\"Taking action {a} in {s} and arriving to {s_} has a probability of:\", mdp.get_transition_probability(s, a, s_))\n",
    "s, a, s_ = \"S_0\", \"a_2\", \"S_0\"\n",
    "print(f\"Taking action {a} in {s} and arriving to {s_} has a probability of:\", mdp.get_transition_probability(s, a, s_))"
   ]
  },
  {
   "cell_type": "markdown",
   "metadata": {
    "collapsed": false
   },
   "source": [
    "## Environments\n",
    "An environment is esentially an MDP but with specific model of transition probabilities, states, actions, etc. These are used in the policy walk algorithm.\n",
    "### GridWorld"
   ]
  },
  {
   "cell_type": "code",
   "execution_count": 8,
   "metadata": {
    "collapsed": false
   },
   "outputs": [],
   "source": [
    "gw = GridWorld((3,5)) # by default noise is 0.2\n",
    "gw.set_traps([(1,1)]) \n",
    "gw.set_terminals([(0,4)])"
   ]
  },
  {
   "cell_type": "code",
   "execution_count": 9,
   "metadata": {
    "collapsed": false
   },
   "outputs": [
    {
     "name": "stdout",
     "output_type": "stream",
     "text": [
      "     0    1    2    3    4 \n",
      "  . ---- ---- ---- ---- ---.\n",
      "0 |    |    |    |    |   T|\n",
      "  |----|----|----|----|----|\n",
      "1 |    |   *|    |    |    |\n",
      "  |----|----|----|----|----|\n",
      "2 |    |    |    |    |    |\n",
      "  |----|----|----|----|----|\n"
     ]
    }
   ],
   "source": [
    "gw.show()"
   ]
  },
  {
   "cell_type": "code",
   "execution_count": 13,
   "metadata": {
    "collapsed": false
   },
   "outputs": [
    {
     "data": {
      "text/plain": [
       "0.2"
      ]
     },
     "execution_count": 13,
     "metadata": {},
     "output_type": "execute_result"
    }
   ],
   "source": [
    "gw.get_transition_probability((2, 1), \"left\", (2,1))"
   ]
  },
  {
   "cell_type": "code",
   "execution_count": null,
   "metadata": {},
   "outputs": [],
   "source": []
  }
 ],
 "metadata": {
  "kernelspec": {
   "display_name": "Python 3",
   "language": "python",
   "name": "python3"
  },
  "language_info": {
   "codemirror_mode": {
    "name": "ipython",
    "version": 3
   },
   "file_extension": ".py",
   "mimetype": "text/x-python",
   "name": "python",
   "nbconvert_exporter": "python",
   "pygments_lexer": "ipython3",
   "version": "3.10.11"
  }
 },
 "nbformat": 4,
 "nbformat_minor": 0
}
