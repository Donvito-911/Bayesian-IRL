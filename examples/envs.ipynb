{
 "cells": [
  {
   "cell_type": "code",
   "execution_count": 1,
   "outputs": [],
   "source": [
    "%load_ext autoreload\n",
    "%autoreload 2"
   ],
   "metadata": {
    "collapsed": false
   }
  },
  {
   "cell_type": "code",
   "execution_count": 108,
   "outputs": [],
   "source": [
    "from birl.mdp import MDP, GridWorld"
   ],
   "metadata": {
    "collapsed": false
   }
  },
  {
   "cell_type": "markdown",
   "source": [
    "## Pure MDPs\n",
    "\n",
    "![Figure 1 of paper BIRL](images/figure1_paper.png)\n"
   ],
   "metadata": {
    "collapsed": false
   }
  },
  {
   "cell_type": "code",
   "execution_count": 109,
   "outputs": [],
   "source": [
    "states = [\"S_0\", \"S_1\", \"S_2\", \"S_3\"]\n",
    "actions = [\"a_1\", \"a_2\"]\n",
    "mdp = MDP(states, actions) # create an MDP with states and actions (by default, transition probabilities are all 0 and gamma=0.9)\n",
    "\n",
    "# create transition probabilities\n",
    "t_prob = [(\"S_0\", \"a_1\", \"S_1\", 0.4), (\"S_0\", \"a_1\", \"S_2\", 0.3), (\"S_0\", \"a_1\", \"S_3\", 0.3), (\"S_0\", \"a_2\", \"S_0\", 1),\n",
    "          (\"S_1\", \"a_1\", \"S_2\", 1), (\"S_1\", \"a_2\", \"S_0\", 1),\n",
    "          (\"S_2\", \"a_1\", \"S_3\", 1), (\"S_2\", \"a_2\", \"S_0\", 1),\n",
    "          (\"S_3\", \"a_1\", \"S_1\", 1), (\"S_0\", \"a_2\", \"S_0\", 1)]\n",
    "mdp.set_transition_probabilities(t_prob)"
   ],
   "metadata": {
    "collapsed": false
   }
  },
  {
   "cell_type": "code",
   "execution_count": 111,
   "outputs": [
    {
     "name": "stdout",
     "output_type": "stream",
     "text": [
      "Taking action a_1 in S_0 and arriving to S_1 has a probability of: 0.4\n",
      "Taking action a_1 in S_0 and arriving to S_0 has a probability of: 0.0\n",
      "Taking action a_2 in S_0 and arriving to S_0 has a probability of: 1.0\n"
     ]
    }
   ],
   "source": [
    "# examples of retrieving the probability\n",
    "s, a, s_ = \"S_0\", \"a_1\", \"S_1\"\n",
    "print(f\"Taking action {a} in {s} and arriving to {s_} has a probability of:\", mdp.get_transition_prob(s, a, s_))\n",
    "s, a, s_ = \"S_0\", \"a_1\", \"S_0\"\n",
    "print(f\"Taking action {a} in {s} and arriving to {s_} has a probability of:\", mdp.get_transition_prob(s, a, s_))\n",
    "s, a, s_ = \"S_0\", \"a_2\", \"S_0\"\n",
    "print(f\"Taking action {a} in {s} and arriving to {s_} has a probability of:\", mdp.get_transition_prob(s, a, s_))"
   ],
   "metadata": {
    "collapsed": false
   }
  },
  {
   "cell_type": "markdown",
   "source": [
    "## Environments\n",
    "An environment is esentially an MDP but with specific model of transition probabilities, states, actions, etc. These are used in the policy walk algorithm.\n",
    "### GridWorld"
   ],
   "metadata": {
    "collapsed": false
   }
  },
  {
   "cell_type": "code",
   "execution_count": 117,
   "outputs": [],
   "source": [
    "gw = GridWorld((3,5)) # by default noise is 0.2\n",
    "gw.set_traps([(1,1)])\n",
    "gw.set_terminals([(0,4)])"
   ],
   "metadata": {
    "collapsed": false
   }
  },
  {
   "cell_type": "code",
   "execution_count": 118,
   "outputs": [
    {
     "name": "stdout",
     "output_type": "stream",
     "text": [
      "     0    1    2    3    4 \n",
      "  . ---- ---- ---- ---- ---.\n",
      "0 |    |    |    |    |   T|\n",
      "  |----|----|----|----|----|\n",
      "1 |    |   *|    |    |    |\n",
      "  |----|----|----|----|----|\n",
      "2 |    |    |    |    |    |\n",
      "  |----|----|----|----|----|\n"
     ]
    }
   ],
   "source": [
    "gw.show()"
   ],
   "metadata": {
    "collapsed": false
   }
  },
  {
   "cell_type": "code",
   "execution_count": 128,
   "outputs": [
    {
     "data": {
      "text/plain": "array([0.1, 0.8, 0. , 0. , 0. , 0.1, 0. , 0. , 0. , 0. , 0. , 0. , 0. ,\n       0. , 0. ])"
     },
     "execution_count": 128,
     "metadata": {},
     "output_type": "execute_result"
    }
   ],
   "source": [
    "gw.get_transition_prob((0, 0), \"right\")"
   ],
   "metadata": {
    "collapsed": false
   }
  },
  {
   "cell_type": "code",
   "execution_count": null,
   "outputs": [],
   "source": [],
   "metadata": {
    "collapsed": false
   }
  }
 ],
 "metadata": {
  "kernelspec": {
   "display_name": "Python 3",
   "language": "python",
   "name": "python3"
  },
  "language_info": {
   "codemirror_mode": {
    "name": "ipython",
    "version": 2
   },
   "file_extension": ".py",
   "mimetype": "text/x-python",
   "name": "python",
   "nbconvert_exporter": "python",
   "pygments_lexer": "ipython2",
   "version": "2.7.6"
  }
 },
 "nbformat": 4,
 "nbformat_minor": 0
}
